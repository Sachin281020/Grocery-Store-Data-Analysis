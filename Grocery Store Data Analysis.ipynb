{
 "cells": [
  {
   "cell_type": "markdown",
   "id": "2e7554c0",
   "metadata": {},
   "source": [
    "#           Project Title: Grocery Store Data Analysis\n",
    "## Overview:\n",
    "#### --Analyzing a grocery store dataset to understand customer behavior, popular products, and Rating."
   ]
  },
  {
   "cell_type": "code",
   "execution_count": 1,
   "id": "2fbac025",
   "metadata": {},
   "outputs": [],
   "source": [
    "import pandas as pd\n",
    "import numpy as np\n",
    "import seaborn as sns\n",
    "import matplotlib.pyplot as plt\n"
   ]
  },
  {
   "cell_type": "code",
   "execution_count": 2,
   "id": "3c35dc94",
   "metadata": {},
   "outputs": [],
   "source": [
    "df = pd.read_csv('GroceryDataset.csv')"
   ]
  },
  {
   "cell_type": "code",
   "execution_count": 3,
   "id": "b6799dde",
   "metadata": {
    "scrolled": true
   },
   "outputs": [
    {
     "data": {
      "text/html": [
       "<div>\n",
       "<style scoped>\n",
       "    .dataframe tbody tr th:only-of-type {\n",
       "        vertical-align: middle;\n",
       "    }\n",
       "\n",
       "    .dataframe tbody tr th {\n",
       "        vertical-align: top;\n",
       "    }\n",
       "\n",
       "    .dataframe thead th {\n",
       "        text-align: right;\n",
       "    }\n",
       "</style>\n",
       "<table border=\"1\" class=\"dataframe\">\n",
       "  <thead>\n",
       "    <tr style=\"text-align: right;\">\n",
       "      <th></th>\n",
       "      <th>Sub Category</th>\n",
       "      <th>Price</th>\n",
       "      <th>Discount</th>\n",
       "      <th>Rating</th>\n",
       "      <th>Title</th>\n",
       "      <th>Currency</th>\n",
       "      <th>Feature</th>\n",
       "      <th>Product Description</th>\n",
       "    </tr>\n",
       "  </thead>\n",
       "  <tbody>\n",
       "    <tr>\n",
       "      <th>0</th>\n",
       "      <td>Bakery &amp; Desserts</td>\n",
       "      <td>$56.99</td>\n",
       "      <td>No Discount</td>\n",
       "      <td>Rated 4.3 out of 5 stars based on 265 reviews.</td>\n",
       "      <td>David’s Cookies Mile High Peanut Butter Cake, ...</td>\n",
       "      <td>$</td>\n",
       "      <td>\"10\"\" Peanut Butter Cake\\nCertified Kosher OU-...</td>\n",
       "      <td>A cake the dessert epicure will die for!Our To...</td>\n",
       "    </tr>\n",
       "    <tr>\n",
       "      <th>1</th>\n",
       "      <td>Bakery &amp; Desserts</td>\n",
       "      <td>$159.99</td>\n",
       "      <td>No Discount</td>\n",
       "      <td>Rated 5 out of 5 stars based on 1 reviews.</td>\n",
       "      <td>The Cake Bake Shop 8\" Round Carrot Cake (16-22...</td>\n",
       "      <td>$</td>\n",
       "      <td>Spiced Carrot Cake with Cream Cheese Frosting ...</td>\n",
       "      <td>Due to the perishable nature of this item, ord...</td>\n",
       "    </tr>\n",
       "    <tr>\n",
       "      <th>2</th>\n",
       "      <td>Bakery &amp; Desserts</td>\n",
       "      <td>$44.99</td>\n",
       "      <td>No Discount</td>\n",
       "      <td>Rated 4.1 out of 5 stars based on 441 reviews.</td>\n",
       "      <td>St Michel Madeleine, Classic French Sponge Cak...</td>\n",
       "      <td>$</td>\n",
       "      <td>100 count\\nIndividually wrapped\\nMade in and I...</td>\n",
       "      <td>Moist and buttery sponge cakes with the tradit...</td>\n",
       "    </tr>\n",
       "    <tr>\n",
       "      <th>3</th>\n",
       "      <td>Bakery &amp; Desserts</td>\n",
       "      <td>$39.99</td>\n",
       "      <td>No Discount</td>\n",
       "      <td>Rated 4.7 out of 5 stars based on 9459 reviews.</td>\n",
       "      <td>David's Cookies Butter Pecan Meltaways 32 oz, ...</td>\n",
       "      <td>$</td>\n",
       "      <td>Butter Pecan Meltaways\\n32 oz 2-Pack\\nNo Prese...</td>\n",
       "      <td>These delectable butter pecan meltaways are th...</td>\n",
       "    </tr>\n",
       "    <tr>\n",
       "      <th>4</th>\n",
       "      <td>Bakery &amp; Desserts</td>\n",
       "      <td>$59.99</td>\n",
       "      <td>No Discount</td>\n",
       "      <td>Rated 4.5 out of 5 stars based on 758 reviews.</td>\n",
       "      <td>David’s Cookies Premier Chocolate Cake, 7.2 lb...</td>\n",
       "      <td>$</td>\n",
       "      <td>\"10\" Four Layer Chocolate Cake\\nCertified Kosh...</td>\n",
       "      <td>A cake the dessert epicure will die for!To the...</td>\n",
       "    </tr>\n",
       "    <tr>\n",
       "      <th>...</th>\n",
       "      <td>...</td>\n",
       "      <td>...</td>\n",
       "      <td>...</td>\n",
       "      <td>...</td>\n",
       "      <td>...</td>\n",
       "      <td>...</td>\n",
       "      <td>...</td>\n",
       "      <td>...</td>\n",
       "    </tr>\n",
       "    <tr>\n",
       "      <th>1752</th>\n",
       "      <td>Snacks</td>\n",
       "      <td>$23.99</td>\n",
       "      <td>No Discount</td>\n",
       "      <td>NaN</td>\n",
       "      <td>Oberto Thin Style Smoked Sausage Stick, Cockta...</td>\n",
       "      <td>$</td>\n",
       "      <td>Cocktail Pepperoni   Smoked Sausage Sticks   3...</td>\n",
       "      <td>Cocktail PepperoniSmoked Sausage Sticks3 oz ba...</td>\n",
       "    </tr>\n",
       "    <tr>\n",
       "      <th>1753</th>\n",
       "      <td>Snacks</td>\n",
       "      <td>$49.99</td>\n",
       "      <td>No Discount</td>\n",
       "      <td>NaN</td>\n",
       "      <td>Cheetos Crunchy, Original, 2.1 oz, 64-count</td>\n",
       "      <td>$</td>\n",
       "      <td>Made with Real Cheese</td>\n",
       "      <td>64-count2.1 oz Bags</td>\n",
       "    </tr>\n",
       "    <tr>\n",
       "      <th>1754</th>\n",
       "      <td>Snacks</td>\n",
       "      <td>$22.99</td>\n",
       "      <td>No Discount</td>\n",
       "      <td>NaN</td>\n",
       "      <td>Sabritas Chile &amp; Limon Mix, Variety Pack, 30-c...</td>\n",
       "      <td>$</td>\n",
       "      <td>Chile &amp; Limón Mix   Variety Pack   30 ct   Net...</td>\n",
       "      <td>8-Doritos Dinamita Chile Limón Flavored Rolled...</td>\n",
       "    </tr>\n",
       "    <tr>\n",
       "      <th>1755</th>\n",
       "      <td>Snacks</td>\n",
       "      <td>$17.49</td>\n",
       "      <td>No Discount</td>\n",
       "      <td>NaN</td>\n",
       "      <td>Fruit Roll-Ups, Variety Pack, 72-count</td>\n",
       "      <td>$</td>\n",
       "      <td>Variety Pack   1   Box with 72 Rolls   Flavore...</td>\n",
       "      <td>Fruit Flavored Snacks\\nVariety Includes: Straw...</td>\n",
       "    </tr>\n",
       "    <tr>\n",
       "      <th>1756</th>\n",
       "      <td>Snacks</td>\n",
       "      <td>$21.99</td>\n",
       "      <td>No Discount</td>\n",
       "      <td>NaN</td>\n",
       "      <td>Takis, Rolled Tortilla Chips, Intense Nacho, 1...</td>\n",
       "      <td>$</td>\n",
       "      <td>Intense Nacho Cheese   Non-Spicy   1 oz bag, 5...</td>\n",
       "      <td>Takis Non-Spicy Cheese Tortilla Chips\\nIndivid...</td>\n",
       "    </tr>\n",
       "  </tbody>\n",
       "</table>\n",
       "<p>1757 rows × 8 columns</p>\n",
       "</div>"
      ],
      "text/plain": [
       "           Sub Category     Price     Discount  \\\n",
       "0     Bakery & Desserts   $56.99   No Discount   \n",
       "1     Bakery & Desserts  $159.99   No Discount   \n",
       "2     Bakery & Desserts   $44.99   No Discount   \n",
       "3     Bakery & Desserts   $39.99   No Discount   \n",
       "4     Bakery & Desserts   $59.99   No Discount   \n",
       "...                 ...       ...          ...   \n",
       "1752             Snacks   $23.99   No Discount   \n",
       "1753             Snacks   $49.99   No Discount   \n",
       "1754             Snacks   $22.99   No Discount   \n",
       "1755             Snacks   $17.49   No Discount   \n",
       "1756             Snacks   $21.99   No Discount   \n",
       "\n",
       "                                               Rating  \\\n",
       "0      Rated 4.3 out of 5 stars based on 265 reviews.   \n",
       "1          Rated 5 out of 5 stars based on 1 reviews.   \n",
       "2      Rated 4.1 out of 5 stars based on 441 reviews.   \n",
       "3     Rated 4.7 out of 5 stars based on 9459 reviews.   \n",
       "4      Rated 4.5 out of 5 stars based on 758 reviews.   \n",
       "...                                               ...   \n",
       "1752                                              NaN   \n",
       "1753                                              NaN   \n",
       "1754                                              NaN   \n",
       "1755                                              NaN   \n",
       "1756                                              NaN   \n",
       "\n",
       "                                                  Title Currency  \\\n",
       "0     David’s Cookies Mile High Peanut Butter Cake, ...        $   \n",
       "1     The Cake Bake Shop 8\" Round Carrot Cake (16-22...        $   \n",
       "2     St Michel Madeleine, Classic French Sponge Cak...        $   \n",
       "3     David's Cookies Butter Pecan Meltaways 32 oz, ...        $   \n",
       "4     David’s Cookies Premier Chocolate Cake, 7.2 lb...        $   \n",
       "...                                                 ...      ...   \n",
       "1752  Oberto Thin Style Smoked Sausage Stick, Cockta...        $   \n",
       "1753        Cheetos Crunchy, Original, 2.1 oz, 64-count        $   \n",
       "1754  Sabritas Chile & Limon Mix, Variety Pack, 30-c...        $   \n",
       "1755             Fruit Roll-Ups, Variety Pack, 72-count        $   \n",
       "1756  Takis, Rolled Tortilla Chips, Intense Nacho, 1...        $   \n",
       "\n",
       "                                                Feature  \\\n",
       "0     \"10\"\" Peanut Butter Cake\\nCertified Kosher OU-...   \n",
       "1     Spiced Carrot Cake with Cream Cheese Frosting ...   \n",
       "2     100 count\\nIndividually wrapped\\nMade in and I...   \n",
       "3     Butter Pecan Meltaways\\n32 oz 2-Pack\\nNo Prese...   \n",
       "4     \"10\" Four Layer Chocolate Cake\\nCertified Kosh...   \n",
       "...                                                 ...   \n",
       "1752  Cocktail Pepperoni   Smoked Sausage Sticks   3...   \n",
       "1753                              Made with Real Cheese   \n",
       "1754  Chile & Limón Mix   Variety Pack   30 ct   Net...   \n",
       "1755  Variety Pack   1   Box with 72 Rolls   Flavore...   \n",
       "1756  Intense Nacho Cheese   Non-Spicy   1 oz bag, 5...   \n",
       "\n",
       "                                    Product Description  \n",
       "0     A cake the dessert epicure will die for!Our To...  \n",
       "1     Due to the perishable nature of this item, ord...  \n",
       "2     Moist and buttery sponge cakes with the tradit...  \n",
       "3     These delectable butter pecan meltaways are th...  \n",
       "4     A cake the dessert epicure will die for!To the...  \n",
       "...                                                 ...  \n",
       "1752  Cocktail PepperoniSmoked Sausage Sticks3 oz ba...  \n",
       "1753                                64-count2.1 oz Bags  \n",
       "1754  8-Doritos Dinamita Chile Limón Flavored Rolled...  \n",
       "1755  Fruit Flavored Snacks\\nVariety Includes: Straw...  \n",
       "1756  Takis Non-Spicy Cheese Tortilla Chips\\nIndivid...  \n",
       "\n",
       "[1757 rows x 8 columns]"
      ]
     },
     "execution_count": 3,
     "metadata": {},
     "output_type": "execute_result"
    }
   ],
   "source": [
    "df"
   ]
  },
  {
   "cell_type": "code",
   "execution_count": 4,
   "id": "4823f502",
   "metadata": {
    "scrolled": true
   },
   "outputs": [
    {
     "name": "stdout",
     "output_type": "stream",
     "text": [
      "<class 'pandas.core.frame.DataFrame'>\n",
      "RangeIndex: 1757 entries, 0 to 1756\n",
      "Data columns (total 8 columns):\n",
      " #   Column               Non-Null Count  Dtype \n",
      "---  ------               --------------  ----- \n",
      " 0   Sub Category         1757 non-null   object\n",
      " 1   Price                1754 non-null   object\n",
      " 2   Discount             1757 non-null   object\n",
      " 3   Rating               682 non-null    object\n",
      " 4   Title                1757 non-null   object\n",
      " 5   Currency             1752 non-null   object\n",
      " 6   Feature              1739 non-null   object\n",
      " 7   Product Description  1715 non-null   object\n",
      "dtypes: object(8)\n",
      "memory usage: 109.9+ KB\n",
      "None\n"
     ]
    }
   ],
   "source": [
    "# Display basic information about the dataset\n",
    "print(df.info())"
   ]
  },
  {
   "cell_type": "code",
   "execution_count": 5,
   "id": "1ac286a5",
   "metadata": {},
   "outputs": [
    {
     "name": "stdout",
     "output_type": "stream",
     "text": [
      "       Sub Category    Price     Discount      Rating  \\\n",
      "count          1757     1754         1757         682   \n",
      "unique           19      184           42         483   \n",
      "top          Snacks  $14.99   No Discount  No Reviews   \n",
      "freq            293       81         1626          61   \n",
      "\n",
      "                                                    Title Currency  \\\n",
      "count                                                1757     1752   \n",
      "unique                                               1484        1   \n",
      "top     Ziploc Seal Top Freezer Bag, Gallon, 38-count,...        $   \n",
      "freq                                                    4     1752   \n",
      "\n",
      "                                                  Feature  \\\n",
      "count                                                1739   \n",
      "unique                                               1401   \n",
      "top     Pick Your Arrival Date at Checkout   Gift Mess...   \n",
      "freq                                                    7   \n",
      "\n",
      "                                      Product Description  \n",
      "count                                                1715  \n",
      "unique                                               1435  \n",
      "top     Item may be available in your local warehouse ...  \n",
      "freq                                                    5  \n"
     ]
    }
   ],
   "source": [
    "# Display summary statistics\n",
    "print(df.describe())"
   ]
  },
  {
   "cell_type": "code",
   "execution_count": 6,
   "id": "e65c62fb",
   "metadata": {},
   "outputs": [
    {
     "name": "stdout",
     "output_type": "stream",
     "text": [
      "Sub Category              0\n",
      "Price                     3\n",
      "Discount                  0\n",
      "Rating                 1075\n",
      "Title                     0\n",
      "Currency                  5\n",
      "Feature                  18\n",
      "Product Description      42\n",
      "dtype: int64\n"
     ]
    }
   ],
   "source": [
    "# Check for missing values\n",
    "print(df.isnull().sum())"
   ]
  },
  {
   "cell_type": "code",
   "execution_count": 7,
   "id": "5309d536",
   "metadata": {},
   "outputs": [],
   "source": [
    "# Fill null Values\n",
    "\n",
    "df['Rating'].fillna('No Reviews', inplace=True)\n",
    "df = df.dropna(subset=['Price'])"
   ]
  },
  {
   "cell_type": "code",
   "execution_count": 8,
   "id": "831c8827",
   "metadata": {},
   "outputs": [
    {
     "name": "stdout",
     "output_type": "stream",
     "text": [
      "Sub Category            0\n",
      "Price                   0\n",
      "Discount                0\n",
      "Rating                  0\n",
      "Title                   0\n",
      "Currency                2\n",
      "Feature                18\n",
      "Product Description    42\n",
      "dtype: int64\n"
     ]
    }
   ],
   "source": [
    "# Check for missing values\n",
    "print(df.isnull().sum())"
   ]
  },
  {
   "cell_type": "code",
   "execution_count": 9,
   "id": "d5c7a94d",
   "metadata": {},
   "outputs": [
    {
     "name": "stdout",
     "output_type": "stream",
     "text": [
      "     Rating                                            Product\n",
      "453     5.0  Portoro Australian Primal Beef Striploin - 1 T...\n",
      "585     5.0  G2G 3-pack Almond Chocolate Chip Protein Bars,...\n",
      "44      5.0  Pulp & Press Organic Cold-Pressed Juice Variet...\n",
      "522     5.0  Artstyle Paper Plate & Napkin Bundle, Year of ...\n",
      "155     5.0      Plaza Golden Osetra Caviar Kilo Pack, 35.2 oz\n",
      "528     5.0  Eco Raj 12 oz Compostable Bagasse Bowl, 1000-c...\n",
      "1       5.0  The Cake Bake Shop 8\" Round Carrot Cake (16-22...\n",
      "33      5.0        Joyburst Energy Variety, 12 fl oz, 18-count\n",
      "298     5.0      Old Fashioned Whiskey Time & Snacks Gift Set \n",
      "295     5.0      Plaza Golden Osetra Caviar Kilo Pack, 35.2 oz\n",
      "395     5.0  Sampler: Dry-Cured Acorn-Fed 100% Iberico Pork...\n",
      "486     5.0  Namaste Gluten Free Waffle & Pancake Mix 3 lb ...\n",
      "580     5.0  G2G 3-pack Peanut Butter & Jelly Protein Bars,...\n",
      "484     5.0                  eat.art Salt and Spice Set 2-pack\n",
      "278     5.0                         TRE Olive Merenda Gift Box\n",
      "258     5.0                  eat.art Salt and Spice Set 2-pack\n",
      "9       5.0  The Cake Bake Shop 8\" Round Chocolate Cake (16...\n",
      "251     5.0    Jacques Torres Assorted Chocolate Large Hat Box\n",
      "333     4.9         The Unscented Company Dryer Balls, 6-count\n",
      "56      4.9   Utah Truffle Milk Chocolate Mint Truffles 16 ...\n",
      "498     4.9   Kirkland Signature Organic Ground Saigon Cinn...\n",
      "89      4.9   The Unscented Company Liquid Dish Soap Refill...\n",
      "493     4.9   Kirkland Signature Organic Hemp Hearts, 3-pac...\n",
      "45      4.9   Tiesta Tea Loose Leaf Tea Variety 3-Pack (16 ...\n",
      "108     4.9         The Unscented Company Dryer Balls, 6-count\n",
      "430     4.9   Crescent Foods Halal Hand-Cut Lamb Locker Pac...\n",
      "434     4.9   Halal Certified Lamb Box - (2/2 20-22 Oz. Rac...\n",
      "109     4.8   The Unscented Company Dishwasher Tabs, 500-count\n",
      "53      4.8   NuTrail Keto Nut Granola Blueberry Cinnamon 2...\n",
      "50      4.8   Cherry Bay Orchards Tart Cherry Concentrate 3...\n"
     ]
    }
   ],
   "source": [
    "# Top 30 Rated Products\n",
    "rating_products = []\n",
    "for index, row in df.iterrows():\n",
    "    value1 = row['Rating']\n",
    "    value2 = row['Title']\n",
    "    if value1 != \"No Reviews\" and value1 != \"through\":\n",
    "        v=value1[6:9]+\" \"+value2\n",
    "        vv=value1[6:8]+\" \"+value2\n",
    "        if v[1]=='.':\n",
    "            rating_products.append(v)\n",
    "        else:\n",
    "            rating_products.append(vv)\n",
    "r = []\n",
    "rr = []\n",
    "tp = {\"Rating\":r,\"Product\":rr}\n",
    "for i in rating_products:\n",
    "    if i[1]==\".\":\n",
    "        r.append(i[:3])\n",
    "        rr.append(i[3:])\n",
    "    else:\n",
    "        r.append(i[0])\n",
    "        rr.append(i[3:])\n",
    "data =pd.DataFrame(tp)\n",
    "data['Rating'] = data['Rating'].astype(float)\n",
    "top_30 = data.sort_values(by='Rating', ascending=False).head(30)\n",
    "print(top_30)"
   ]
  },
  {
   "cell_type": "code",
   "execution_count": 10,
   "id": "5aa7e22d",
   "metadata": {
    "scrolled": true
   },
   "outputs": [
    {
     "name": "stderr",
     "output_type": "stream",
     "text": [
      "C:\\Users\\Admin\\AppData\\Local\\Temp\\ipykernel_5452\\1329420383.py:1: FutureWarning: The default value of regex will change from True to False in a future version. In addition, single character regular expressions will *not* be treated as literal strings when regex=True.\n",
      "  df['Price'] = df['Price'].str.replace('$', '')\n",
      "C:\\Users\\Admin\\AppData\\Local\\Temp\\ipykernel_5452\\1329420383.py:1: SettingWithCopyWarning: \n",
      "A value is trying to be set on a copy of a slice from a DataFrame.\n",
      "Try using .loc[row_indexer,col_indexer] = value instead\n",
      "\n",
      "See the caveats in the documentation: https://pandas.pydata.org/pandas-docs/stable/user_guide/indexing.html#returning-a-view-versus-a-copy\n",
      "  df['Price'] = df['Price'].str.replace('$', '')\n",
      "C:\\Users\\Admin\\AppData\\Local\\Temp\\ipykernel_5452\\1329420383.py:2: SettingWithCopyWarning: \n",
      "A value is trying to be set on a copy of a slice from a DataFrame.\n",
      "Try using .loc[row_indexer,col_indexer] = value instead\n",
      "\n",
      "See the caveats in the documentation: https://pandas.pydata.org/pandas-docs/stable/user_guide/indexing.html#returning-a-view-versus-a-copy\n",
      "  df['Price'] = df['Price'].str.replace('through-', '')\n",
      "C:\\Users\\Admin\\AppData\\Local\\Temp\\ipykernel_5452\\1329420383.py:3: SettingWithCopyWarning: \n",
      "A value is trying to be set on a copy of a slice from a DataFrame.\n",
      "Try using .loc[row_indexer,col_indexer] = value instead\n",
      "\n",
      "See the caveats in the documentation: https://pandas.pydata.org/pandas-docs/stable/user_guide/indexing.html#returning-a-view-versus-a-copy\n",
      "  df['Price'] = df['Price'].str.replace(' ', '')\n",
      "C:\\Users\\Admin\\AppData\\Local\\Temp\\ipykernel_5452\\1329420383.py:4: SettingWithCopyWarning: \n",
      "A value is trying to be set on a copy of a slice from a DataFrame.\n",
      "Try using .loc[row_indexer,col_indexer] = value instead\n",
      "\n",
      "See the caveats in the documentation: https://pandas.pydata.org/pandas-docs/stable/user_guide/indexing.html#returning-a-view-versus-a-copy\n",
      "  df['Price'] = df['Price'].str.replace(',', '')\n",
      "C:\\Users\\Admin\\AppData\\Local\\Temp\\ipykernel_5452\\1329420383.py:5: SettingWithCopyWarning: \n",
      "A value is trying to be set on a copy of a slice from a DataFrame.\n",
      "Try using .loc[row_indexer,col_indexer] = value instead\n",
      "\n",
      "See the caveats in the documentation: https://pandas.pydata.org/pandas-docs/stable/user_guide/indexing.html#returning-a-view-versus-a-copy\n",
      "  df['Price'] = [i[:5] if i[2] == \".\" and len(i) == 10 else i[:6] if i[3] == \".\" and len(i) == 12 else i[:5] if i[2] == \".\" and len(i) == 11 else i for i in df['Price']]\n",
      "C:\\Users\\Admin\\AppData\\Local\\Temp\\ipykernel_5452\\1329420383.py:6: SettingWithCopyWarning: \n",
      "A value is trying to be set on a copy of a slice from a DataFrame.\n",
      "Try using .loc[row_indexer,col_indexer] = value instead\n",
      "\n",
      "See the caveats in the documentation: https://pandas.pydata.org/pandas-docs/stable/user_guide/indexing.html#returning-a-view-versus-a-copy\n",
      "  df['Price'] = df['Price'].astype(float)\n"
     ]
    },
    {
     "data": {
      "text/plain": [
       "Sub Category\n",
       "Bakery & Desserts                2752.67\n",
       "Beverages & Water                5432.12\n",
       "Breakfast                         279.39\n",
       "Candy                            3860.66\n",
       "Cleaning Supplies                2853.56\n",
       "Coffee                           3123.65\n",
       "Deli                             7784.79\n",
       "Floral                           5398.25\n",
       "Gift Baskets                    10568.11\n",
       "Household                        2295.19\n",
       "Kirkland Signature Grocery       3430.58\n",
       "Laundry Detergent & Supplies     1321.91\n",
       "Meat & Seafood                  32828.55\n",
       "Organic                           739.87\n",
       "Pantry & Dry Goods               4976.69\n",
       "Paper & Plastic Products         2230.32\n",
       "Poultry                          1279.92\n",
       "Seafood                          9189.51\n",
       "Snacks                           6288.48\n",
       "Name: Price, dtype: float64"
      ]
     },
     "execution_count": 10,
     "metadata": {},
     "output_type": "execute_result"
    }
   ],
   "source": [
    "df['Price'] = df['Price'].str.replace('$', '')\n",
    "df['Price'] = df['Price'].str.replace('through-', '')\n",
    "df['Price'] = df['Price'].str.replace(' ', '')\n",
    "df['Price'] = df['Price'].str.replace(',', '')\n",
    "df['Price'] = [i[:5] if i[2] == \".\" and len(i) == 10 else i[:6] if i[3] == \".\" and len(i) == 12 else i[:5] if i[2] == \".\" and len(i) == 11 else i for i in df['Price']]\n",
    "df['Price'] = df['Price'].astype(float)\n",
    "\n",
    "df.groupby('Sub Category')[\"Price\"].sum()"
   ]
  },
  {
   "cell_type": "code",
   "execution_count": 11,
   "id": "5759b806",
   "metadata": {},
   "outputs": [
    {
     "data": {
      "image/png": "[encoded data removed]",
      "text/plain": [
       "<Figure size 640x480 with 1 Axes>"
      ]
     },
     "metadata": {},
     "output_type": "display_data"
    }
   ],
   "source": [
    "grouped_data = df.groupby('Sub Category')[\"Price\"].sum().reset_index()\n",
    "top_5 = grouped_data.sort_values(by='Price', ascending=False).head(5)\n",
    "top_5\n",
    "\n",
    "# Plotting the data using a bar chart\n",
    "plt.bar(top_5['Sub Category'],top_5['Price'])\n",
    "plt.xlabel('Sub Category')\n",
    "plt.ylabel('Total Price')\n",
    "plt.title('Total Price by Sub Category')\n",
    "plt.show()"
   ]
  },
  {
   "cell_type": "code",
   "execution_count": 12,
   "id": "71ec2b27",
   "metadata": {},
   "outputs": [
    {
     "data": {
      "image/png": "[encoded data removed]",
      "text/plain": [
       "<Figure size 640x480 with 1 Axes>"
      ]
     },
     "metadata": {},
     "output_type": "display_data"
    }
   ],
   "source": [
    "Sub_category_counts = df['Sub Category'].value_counts().reset_index()\n",
    "top_4 = Sub_category_counts.sort_values(by='Sub Category', ascending=False).head(4)\n",
    "plt.bar(top_4['index'],top_4['Sub Category'])\n",
    "plt.xlabel('Sub Category')\n",
    "plt.ylabel('Count')\n",
    "plt.title('Total Number of Sub Category')\n",
    "plt.show()"
   ]
  }
 ],
 "metadata": {
  "kernelspec": {
   "display_name": "Python 3 (ipykernel)",
   "language": "python",
   "name": "python3"
  },
  "language_info": {
   "codemirror_mode": {
    "name": "ipython",
    "version": 3
   },
   "file_extension": ".py",
   "mimetype": "text/x-python",
   "name": "python",
   "nbconvert_exporter": "python",
   "pygments_lexer": "ipython3",
   "version": "3.11.4"
  }
 },
 "nbformat": 4,
 "nbformat_minor": 5
}
